{
 "cells": [
  {
   "cell_type": "code",
   "execution_count": 1,
   "id": "initial_id",
   "metadata": {
    "collapsed": true,
    "ExecuteTime": {
     "end_time": "2025-04-19T16:26:21.473830100Z",
     "start_time": "2025-04-19T16:26:21.302546600Z"
    }
   },
   "outputs": [],
   "source": [
    "import csv\n",
    "from selenium import webdriver\n",
    "from selenium.webdriver.common.by import By\n",
    "from selenium.webdriver.chrome.options import Options\n",
    "from selenium.webdriver.support.ui import WebDriverWait\n",
    "from selenium.webdriver.support import expected_conditions as EC"
   ]
  },
  {
   "cell_type": "code",
   "outputs": [],
   "source": [
    "# Configure Chrome options\n",
    "options = Options()\n",
    "options.add_argument(\"--start-maximized\")\n",
    "options.add_experimental_option(\"detach\", True)  # Prevents auto-close"
   ],
   "metadata": {
    "collapsed": false,
    "ExecuteTime": {
     "end_time": "2025-04-19T16:26:23.693733200Z",
     "start_time": "2025-04-19T16:26:23.665585700Z"
    }
   },
   "id": "66eebff73b3fd71",
   "execution_count": 2
  },
  {
   "cell_type": "code",
   "outputs": [],
   "source": [
    "# Start Selenium\n",
    "driver = webdriver.Chrome(options=options)\n",
    "driver.get(\"https://www.hackerrank.com/contests/tcet-shastra-coding-challenge-se-2/leaderboard\")"
   ],
   "metadata": {
    "collapsed": false,
    "ExecuteTime": {
     "end_time": "2025-04-19T16:26:39.648066700Z",
     "start_time": "2025-04-19T16:26:33.318752700Z"
    }
   },
   "id": "4fc380dc0fb56d33",
   "execution_count": 3
  },
  {
   "cell_type": "code",
   "outputs": [],
   "source": [
    "# Wait for leaderboard to load\n",
    "wait = WebDriverWait(driver, 10)\n",
    "rows = wait.until(EC.presence_of_all_elements_located((By.CSS_SELECTOR, \".leaderboard-list-view .row\")))"
   ],
   "metadata": {
    "collapsed": false,
    "ExecuteTime": {
     "end_time": "2025-04-19T16:26:50.225767700Z",
     "start_time": "2025-04-19T16:26:50.184916Z"
    }
   },
   "id": "ec1001cd825e225e",
   "execution_count": 4
  },
  {
   "cell_type": "code",
   "outputs": [],
   "source": [
    "leaderboard = []\n",
    "for row in rows:\n",
    "    try:\n",
    "        username_element = row.find_element(By.CSS_SELECTOR, \".span-flex-4 a\")  # Updated selector\n",
    "        score_element = row.find_element(By.CSS_SELECTOR, \".span-flex-3\")  # Score selector\n",
    "\n",
    "        username = username_element.text.strip()\n",
    "        score = score_element.text.strip()\n",
    "\n",
    "        leaderboard.append([username, score])\n",
    "    except Exception as e:\n",
    "        print(\"Skipping row due to error:\", e)"
   ],
   "metadata": {
    "collapsed": false,
    "ExecuteTime": {
     "end_time": "2025-04-19T16:26:58.260547500Z",
     "start_time": "2025-04-19T16:26:56.270365600Z"
    }
   },
   "id": "be06e444de217dc0",
   "execution_count": 5
  },
  {
   "cell_type": "code",
   "outputs": [
    {
     "name": "stdout",
     "output_type": "stream",
     "text": [
      "Extracted Data: [['h1032230055', '150.00'], ['riteshg123098', '150.00'], ['h1032230938', '150.00'], ['jainvinit246', '150.00'], ['rajpurohitdivya3', '150.00'], ['gulamshaikh2455', '150.00'], ['ayushsahu0827', '150.00'], ['triptishetty21', '150.00'], ['S1032230085', '150.00'], ['rsmita8928', '150.00'], ['kanchan_saini101', '150.00'], ['mudrasawant3009', '150.00'], ['swaminiyesade1', '150.00'], ['devanshisingh228', '150.00'], ['yadavkshitij_101', '150.00'], ['rhitikavishwaka1', '150.00'], ['avcode10', '100.00'], ['h1032230006', '100.00'], ['prince_co10673', '100.00'], ['h1032231029', '100.00'], ['saniya_desai', '100.00'], ['harshbpandey08', '100.00'], ['gayathrichauhan1', '100.00'], ['vipulmishra1102', '100.00'], ['h1032231035', '100.00'], ['byallasuresh9', '100.00'], ['Anuj18x2027', '100.00'], ['omyadav2149', '100.00'], ['h1032231051', '100.00'], ['yadavnandini338', '100.00'], ['jiyakaul5', '100.00'], ['ankitvishwa920', '100.00'], ['abhisinghj234', '100.00'], ['yassshhhh_22', '100.00'], ['thakurshivam2307', '100.00'], ['shikhaguptaworks', '100.00'], ['upadhyay27palak', '100.00'], ['bhaisaransh931', '100.00'], ['daps120605', '100.00'], ['anandviraj30', '100.00'], ['10e_ayushmishra1', '100.00'], ['personalaarush64', '100.00'], ['rajeevyadav_ry21', '100.00'], ['shivamsingh10201', '100.00'], ['h1032230040', '100.00'], ['us101741', '100.00'], ['yadavaaaaditya21', '100.00'], ['shivangisp07', '100.00'], ['nbhardwaj2605', '100.00'], ['ny58champ', '100.00'], ['sharmavancika', '100.00'], ['devanshtiwari262', '100.00'], ['sakshii_s2804', '100.00'], ['ggBruh', '100.00'], ['sharmarishu20061', '100.00'], ['harshtiwari26852', '100.00'], ['dubeyaayush333', '100.00'], ['h1032230294', '100.00'], ['prathamvarma178', '100.00'], ['jaiswaladitya601', '100.00'], ['h1032230922', '100.00'], ['cs5764532', '100.00'], ['suraj_c8705', '100.00'], ['patelovais830', '100.00'], ['saarna2005', '100.00'], ['singhsneha98752', '100.00'], ['pp296522', '100.00'], ['siddhic311', '100.00'], ['anandpandey17051', '60.00'], ['kartikradye10', '60.00'], ['tazimesaf', '50.00'], ['jaypatil7112005', '50.00'], ['niyatishetty09', '50.00'], ['ayushtiwari12348', '50.00'], ['sharmarudra775', '50.00'], ['pandeyshivam5797', '50.00'], ['photon278', '50.00'], ['saurabhsingh9731', '50.00'], ['utripathiwork', '50.00'], ['gkaran09', '20.00'], ['riteshygyanpur71', '20.00'], ['h1032231050', '16.67'], ['shivanipathak252', '0.00'], ['pranjalp104', '0.00'], ['itsrishitarathi1', '0.00'], ['shezaaziz77', '0.00'], ['aryangupta9922', '0.00'], ['sonakshi55091', '0.00'], ['nilesh_singh1511', '0.00'], ['rajgariahkairav', '0.00'], ['harsh920050', '0.00'], ['varmasakshi777', '0.00'], ['khushboogupta221', '0.00'], ['shubvaj', '0.00'], ['pragneshdubey20', '0.00']]\n"
     ]
    }
   ],
   "source": [
    "\n",
    "print(\"Extracted Data:\", leaderboard)"
   ],
   "metadata": {
    "collapsed": false,
    "ExecuteTime": {
     "end_time": "2025-04-19T16:27:00.403433600Z",
     "start_time": "2025-04-19T16:27:00.396387100Z"
    }
   },
   "id": "5889ef2193ce649a",
   "execution_count": 6
  },
  {
   "cell_type": "code",
   "outputs": [
    {
     "name": "stdout",
     "output_type": "stream",
     "text": [
      "Data saved successfully to hackerrank_leaderboard_SE-2.csv\n"
     ]
    }
   ],
   "source": [
    "csv_filename = \"hackerrank_leaderboard_SE-2.csv\"\n",
    "if leaderboard:  # Only save if data exists\n",
    "    with open(csv_filename, \"w\", newline=\"\", encoding=\"utf-8\") as file:\n",
    "        writer = csv.writer(file)\n",
    "        writer.writerow([\"HackerRank ID\", \"Score\"])\n",
    "        writer.writerows(leaderboard)\n",
    "\n",
    "    print(f\"Data saved successfully to {csv_filename}\")\n",
    "else:\n",
    "    print(\"No data extracted! Check element selectors.\")"
   ],
   "metadata": {
    "collapsed": false,
    "ExecuteTime": {
     "end_time": "2025-04-19T16:27:12.357095Z",
     "start_time": "2025-04-19T16:27:12.338695300Z"
    }
   },
   "id": "802ce531dfcb25df",
   "execution_count": 7
  },
  {
   "cell_type": "code",
   "outputs": [],
   "source": [],
   "metadata": {
    "collapsed": false
   },
   "id": "df79755291748184"
  }
 ],
 "metadata": {
  "kernelspec": {
   "display_name": "Python 3",
   "language": "python",
   "name": "python3"
  },
  "language_info": {
   "codemirror_mode": {
    "name": "ipython",
    "version": 2
   },
   "file_extension": ".py",
   "mimetype": "text/x-python",
   "name": "python",
   "nbconvert_exporter": "python",
   "pygments_lexer": "ipython2",
   "version": "2.7.6"
  }
 },
 "nbformat": 4,
 "nbformat_minor": 5
}
