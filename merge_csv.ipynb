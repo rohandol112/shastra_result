{
 "cells": [
  {
   "cell_type": "code",
   "execution_count": 48,
   "id": "initial_id",
   "metadata": {
    "collapsed": true,
    "ExecuteTime": {
     "end_time": "2025-04-19T16:40:22.084542500Z",
     "start_time": "2025-04-19T16:40:22.080156300Z"
    }
   },
   "outputs": [],
   "source": [
    "import pandas as pd\n",
    "import os"
   ]
  },
  {
   "cell_type": "code",
   "outputs": [],
   "source": [
    "# Load both CSV files\n",
    "scraped_file_path = \"./hackerrank_leaderboard_SE-2.csv\"  # First CSV (scraped results)\n",
    "cleaned_file_path = \"C:/Users/Rohan/PycharmProjects/pythonProject3/cleaned_test_2026_csv.csv\"  # Second CSV (cleaned IDs)"
   ],
   "metadata": {
    "collapsed": false,
    "ExecuteTime": {
     "end_time": "2025-04-19T16:40:22.246485400Z",
     "start_time": "2025-04-19T16:40:22.240871Z"
    }
   },
   "id": "c6b376ae6b52bf56",
   "execution_count": 49
  },
  {
   "cell_type": "code",
   "outputs": [],
   "source": [
    "scraped_df = pd.read_csv(scraped_file_path)\n",
    "cleaned_df = pd.read_csv(cleaned_file_path)"
   ],
   "metadata": {
    "collapsed": false,
    "ExecuteTime": {
     "end_time": "2025-04-19T16:40:22.407605Z",
     "start_time": "2025-04-19T16:40:22.392477300Z"
    }
   },
   "id": "a81e3b34115b59ab",
   "execution_count": 50
  },
  {
   "cell_type": "code",
   "outputs": [],
   "source": [
    "# Merge data on HackerRank ID\n",
    "merged_df = cleaned_df.merge(scraped_df, on=\"HackerRank ID\", how=\"left\")"
   ],
   "metadata": {
    "collapsed": false,
    "ExecuteTime": {
     "end_time": "2025-04-19T16:40:22.565443600Z",
     "start_time": "2025-04-19T16:40:22.558920300Z"
    }
   },
   "id": "8d83ebce4a6425aa",
   "execution_count": 51
  },
  {
   "cell_type": "code",
   "outputs": [],
   "source": [
    "# Save the final results\n",
    "final_file_path = \"final_shastra_results.csv\"\n",
    "merged_df.to_csv(final_file_path, index=False)\n"
   ],
   "metadata": {
    "collapsed": false,
    "ExecuteTime": {
     "end_time": "2025-04-19T16:40:22.715628500Z",
     "start_time": "2025-04-19T16:40:22.706382100Z"
    }
   },
   "id": "860eb1d73492dc64",
   "execution_count": 52
  },
  {
   "cell_type": "code",
   "outputs": [
    {
     "name": "stdout",
     "output_type": "stream",
     "text": [
      "Final results saved at: C:\\Users\\Rohan\\PycharmProjects\\pythonProject3\\final_shastra_results.csv\n"
     ]
    }
   ],
   "source": [
    "# Get and print the absolute path of the saved file\n",
    "absolute_path = os.path.abspath(final_file_path) \n",
    "print(f\"Final results saved at: {absolute_path}\")"
   ],
   "metadata": {
    "collapsed": false,
    "ExecuteTime": {
     "end_time": "2025-04-19T16:40:22.933759900Z",
     "start_time": "2025-04-19T16:40:22.929893100Z"
    }
   },
   "id": "a9d7b73da1468f2e",
   "execution_count": 53
  },
  {
   "cell_type": "code",
   "outputs": [],
   "source": [],
   "metadata": {
    "collapsed": false,
    "ExecuteTime": {
     "end_time": "2025-04-19T16:33:29.374670500Z",
     "start_time": "2025-04-19T16:33:29.370066100Z"
    }
   },
   "id": "3116b089a6455fe1",
   "execution_count": 24
  },
  {
   "cell_type": "code",
   "outputs": [],
   "source": [],
   "metadata": {
    "collapsed": false,
    "ExecuteTime": {
     "end_time": "2025-03-19T14:08:49.389029Z",
     "start_time": "2025-03-19T14:08:49.388002900Z"
    }
   },
   "id": "f879fada79dca49e",
   "execution_count": 45
  },
  {
   "cell_type": "code",
   "outputs": [],
   "source": [],
   "metadata": {
    "collapsed": false,
    "ExecuteTime": {
     "end_time": "2025-03-19T14:08:49.624434200Z",
     "start_time": "2025-03-19T14:08:49.620139300Z"
    }
   },
   "id": "9e8dae0456a0864c",
   "execution_count": 45
  },
  {
   "cell_type": "code",
   "outputs": [],
   "source": [],
   "metadata": {
    "collapsed": false
   },
   "id": "71f904d94bd6649b"
  }
 ],
 "metadata": {
  "kernelspec": {
   "display_name": "Python 3",
   "language": "python",
   "name": "python3"
  },
  "language_info": {
   "codemirror_mode": {
    "name": "ipython",
    "version": 2
   },
   "file_extension": ".py",
   "mimetype": "text/x-python",
   "name": "python",
   "nbconvert_exporter": "python",
   "pygments_lexer": "ipython2",
   "version": "2.7.6"
  }
 },
 "nbformat": 4,
 "nbformat_minor": 5
}
