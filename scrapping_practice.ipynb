{
 "cells": [
  {
   "cell_type": "code",
   "execution_count": 1,
   "id": "initial_id",
   "metadata": {
    "collapsed": true,
    "ExecuteTime": {
     "end_time": "2025-04-12T20:45:36.642880700Z",
     "start_time": "2025-04-12T20:45:35.648965200Z"
    }
   },
   "outputs": [
    {
     "name": "stdout",
     "output_type": "stream",
     "text": [
      "'“This life is what you make it. No matter what, you're going to mess up sometimes, it's a universal truth. But the good part is you get to decide how you're going to mess it up. Girls will be your friends - they'll act like it anyway. But just remember, some come, some go. The ones that stay with you through everything - they're your true best friends. Don't let go of them. Also remember, sisters make the best friends in the world. As for lovers, well, they'll come and go too. And baby, I hate to say it, most of them - actually pretty much all of them are going to break your heart, but you can't give up because if you give up, you'll never find your soulmate. You'll never find that half who makes you whole and that goes for everything. Just because you fail once, doesn't mean you're gonna fail at everything. Keep trying, hold on, and always, always, always believe in yourself, because if you don't, then who will, sweetie? So keep your head high, keep your chin up, and most importantly, keep smiling, because life's a beautiful thing and there's so much to smile about.”' - Marilyn Monroe\n",
      "'“It takes a great deal of bravery to stand up to our enemies, but just as much to stand up to our friends.”' - J.K. Rowling\n",
      "'“If you can't explain it to a six year old, you don't understand it yourself.”' - Albert Einstein\n",
      "'“You may not be her first, her last, or her only. She loved before she may love again. But if she loves you now, what else matters? She's not perfect—you aren't either, and the two of you may never be perfect together but if she can make you laugh, cause you to think twice, and admit to being human and making mistakes, hold onto her and give her the most you can. She may not be thinking about you every second of the day, but she will give you a part of her that she knows you can break—her heart. So don't hurt her, don't change her, don't analyze and don't expect more than she can give. Smile when she makes you happy, let her know when she makes you mad, and miss her when she's not there.”' - Bob Marley\n",
      "'“I like nonsense, it wakes up the brain cells. Fantasy is a necessary ingredient in living.”' - Dr. Seuss\n",
      "'“I may not have gone where I intended to go, but I think I have ended up where I needed to be.”' - Douglas Adams\n",
      "'“The opposite of love is not hate, it's indifference. The opposite of art is not ugliness, it's indifference. The opposite of faith is not heresy, it's indifference. And the opposite of life is not death, it's indifference.”' - Elie Wiesel\n",
      "'“It is not a lack of love, but a lack of friendship that makes unhappy marriages.”' - Friedrich Nietzsche\n",
      "'“Good friends, good books, and a sleepy conscience: this is the ideal life.”' - Mark Twain\n",
      "'“Life is what happens to us while we are making other plans.”' - Allen Saunders\n"
     ]
    }
   ],
   "source": [
    "import requests\n",
    "from bs4 import BeautifulSoup\n",
    "\n",
    "# Request page 2\n",
    "response = requests.get(\"http://quotes.toscrape.com/page/2/\")\n",
    "\n",
    "# Parse the HTML\n",
    "soup = BeautifulSoup(response.text, 'html.parser')\n",
    "quotes = []\n",
    "for quote_div in soup.select(\"div.quote\"):\n",
    "    text = quote_div.select_one(\"span.text\").text\n",
    "    author = quote_div.select_one(\"small.author\").text\n",
    "    quotes.append({\"text\": text, \"author\": author})\n",
    "for quote in quotes:\n",
    "    print(f\"'{quote['text']}' - {quote['author']}\")"
   ]
  },
  {
   "cell_type": "code",
   "outputs": [],
   "source": [],
   "metadata": {
    "collapsed": false
   },
   "id": "7f219ff5348afcd8"
  }
 ],
 "metadata": {
  "kernelspec": {
   "display_name": "Python 3",
   "language": "python",
   "name": "python3"
  },
  "language_info": {
   "codemirror_mode": {
    "name": "ipython",
    "version": 2
   },
   "file_extension": ".py",
   "mimetype": "text/x-python",
   "name": "python",
   "nbconvert_exporter": "python",
   "pygments_lexer": "ipython2",
   "version": "2.7.6"
  }
 },
 "nbformat": 4,
 "nbformat_minor": 5
}
