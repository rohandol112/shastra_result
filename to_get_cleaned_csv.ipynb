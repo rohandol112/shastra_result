{
 "cells": [
  {
   "cell_type": "code",
   "execution_count": 31,
   "id": "initial_id",
   "metadata": {
    "collapsed": true,
    "ExecuteTime": {
     "end_time": "2025-04-19T16:40:16.784129700Z",
     "start_time": "2025-04-19T16:40:16.765631800Z"
    }
   },
   "outputs": [],
   "source": [
    "import pandas as pd\n",
    "import os"
   ]
  },
  {
   "cell_type": "code",
   "outputs": [],
   "source": [
    "# Load the CSV file\n",
    "file_path = \"C:/Users/Rohan/Downloads/Batch_2027_Result - CS&E.csv\" # Change to your file path\n",
    "df = pd.read_csv(file_path)"
   ],
   "metadata": {
    "collapsed": false,
    "ExecuteTime": {
     "end_time": "2025-04-19T16:40:17.500815200Z",
     "start_time": "2025-04-19T16:40:17.479616600Z"
    }
   },
   "id": "f928269032cea1b",
   "execution_count": 32
  },
  {
   "cell_type": "code",
   "outputs": [],
   "source": [
    "# Remove '@' from the HackerRank ID column\n",
    "df[\"HackerRank ID\"] = df[\"HackerRank ID\"].astype(str).str.lstrip(\"@\")"
   ],
   "metadata": {
    "collapsed": false,
    "ExecuteTime": {
     "end_time": "2025-04-19T16:40:17.667974800Z",
     "start_time": "2025-04-19T16:40:17.662105100Z"
    }
   },
   "id": "928aa35ef96fdf2d",
   "execution_count": 33
  },
  {
   "cell_type": "code",
   "outputs": [],
   "source": [
    "# Save the cleaned file\n",
    "cleaned_file_path = \"cleaned_test_2026_csv.csv\"\n",
    "df.to_csv(cleaned_file_path, index=False)"
   ],
   "metadata": {
    "collapsed": false,
    "ExecuteTime": {
     "end_time": "2025-04-19T16:40:17.830711400Z",
     "start_time": "2025-04-19T16:40:17.824242Z"
    }
   },
   "id": "517f8ed190a7567a",
   "execution_count": 34
  },
  {
   "cell_type": "code",
   "outputs": [
    {
     "name": "stdout",
     "output_type": "stream",
     "text": [
      "Cleaned file saved at: C:\\Users\\Rohan\\PycharmProjects\\pythonProject3\\cleaned_test_2026_csv.csv\n"
     ]
    }
   ],
   "source": [
    "# Get and print the absolute path of the saved file\n",
    "absolute_path = os.path.abspath(cleaned_file_path)\n",
    "print(f\"Cleaned file saved at: {absolute_path}\")"
   ],
   "metadata": {
    "collapsed": false,
    "ExecuteTime": {
     "end_time": "2025-04-19T16:40:17.982164Z",
     "start_time": "2025-04-19T16:40:17.975471100Z"
    }
   },
   "id": "8a8e34e1024bb2d9",
   "execution_count": 35
  },
  {
   "cell_type": "code",
   "outputs": [],
   "source": [],
   "metadata": {
    "collapsed": false,
    "ExecuteTime": {
     "end_time": "2025-04-19T16:40:18.204628100Z",
     "start_time": "2025-04-19T16:40:18.199047800Z"
    }
   },
   "id": "d4c41e3e157929b3",
   "execution_count": 35
  },
  {
   "cell_type": "code",
   "outputs": [],
   "source": [],
   "metadata": {
    "collapsed": false,
    "ExecuteTime": {
     "end_time": "2025-04-15T02:25:58.249286700Z",
     "start_time": "2025-04-15T02:25:58.241772900Z"
    }
   },
   "id": "d1d0047b50c56889",
   "execution_count": 60
  },
  {
   "cell_type": "code",
   "outputs": [],
   "source": [],
   "metadata": {
    "collapsed": false
   },
   "id": "593dd858d4796254"
  }
 ],
 "metadata": {
  "kernelspec": {
   "display_name": "Python 3",
   "language": "python",
   "name": "python3"
  },
  "language_info": {
   "codemirror_mode": {
    "name": "ipython",
    "version": 2
   },
   "file_extension": ".py",
   "mimetype": "text/x-python",
   "name": "python",
   "nbconvert_exporter": "python",
   "pygments_lexer": "ipython2",
   "version": "2.7.6"
  }
 },
 "nbformat": 4,
 "nbformat_minor": 5
}
