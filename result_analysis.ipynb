{
 "cells": [
  {
   "cell_type": "code",
   "execution_count": 6,
   "id": "initial_id",
   "metadata": {
    "collapsed": true,
    "ExecuteTime": {
     "end_time": "2025-04-29T07:49:23.995950600Z",
     "start_time": "2025-04-29T07:49:23.986923900Z"
    }
   },
   "outputs": [],
   "source": [
    "import pandas as pd\n",
    "import numpy as np\n",
    "import matplotlib.pyplot as plt\n",
    "import seaborn as sns\n",
    "import os\n",
    "import glob\n",
    "from IPython.display import display"
   ]
  },
  {
   "cell_type": "code",
   "outputs": [],
   "source": [
    "def load_and_merge_csv_files(file_path_pattern):\n",
    "    \"\"\"\n",
    "    Load and merge multiple CSV files with the same header structure.\n",
    "    \n",
    "    Parameters:\n",
    "    -----------\n",
    "    file_path_pattern : str\n",
    "        File pattern to match CSV files (e.g., \"./data/Batch_*.csv\")\n",
    "        \n",
    "    Returns:\n",
    "    --------\n",
    "    pandas.DataFrame\n",
    "        Merged dataframe containing data from all matching CSV files\n",
    "    \"\"\"\n",
    "    # Get list of all files matching the pattern\n",
    "    all_files = glob.glob(file_path_pattern)\n",
    "    \n",
    "    print(f\"Found {len(all_files)} files matching pattern: {file_path_pattern}\")\n",
    "    \n",
    "    # Read and combine all files\n",
    "    df_list = []\n",
    "    \n",
    "    for filename in all_files:\n",
    "        print(f\"Reading file: {filename}\")\n",
    "        df = pd.read_csv(filename)\n",
    "        df_list.append(df)\n",
    "    \n",
    "    if len(df_list) == 0:\n",
    "        print(\"No files found!\")\n",
    "        return None\n",
    "    \n",
    "    # Concatenate all dataframes\n",
    "    combined_df = pd.concat(df_list, ignore_index=True)\n",
    "    \n",
    "    print(f\"Combined DataFrame has {combined_df.shape[0]} rows and {combined_df.shape[1]} columns\")\n",
    "    \n",
    "    return combined_df"
   ],
   "metadata": {
    "collapsed": false,
    "ExecuteTime": {
     "end_time": "2025-04-29T07:49:53.713222900Z",
     "start_time": "2025-04-29T07:49:53.711707300Z"
    }
   },
   "id": "b59cbc76a3d19768",
   "execution_count": 7
  },
  {
   "cell_type": "code",
   "outputs": [],
   "source": [
    "# Update the file pattern as needed to match your CSV files\n",
    "#file_pattern = \"Batch_*.csv\"  # Change this to match your file naming pattern\n",
    "#all_results_df = load_and_merge_csv_files(file_pattern)\n",
    "\n",
    "# If you only have a single file and don't need merging, use this instead:\n",
    "all_results_df = pd.read_csv(\"C:/Users/Rohan/Downloads/Batch_2026_Result - Batch 1 (1).csv\")\n"
   ],
   "metadata": {
    "collapsed": false,
    "ExecuteTime": {
     "end_time": "2025-04-29T07:52:15.793631400Z",
     "start_time": "2025-04-29T07:52:15.774583700Z"
    }
   },
   "id": "5dba799987886b28",
   "execution_count": 12
  },
  {
   "cell_type": "code",
   "outputs": [],
   "source": [],
   "metadata": {
    "collapsed": false
   },
   "id": "f25b8cba18698bc7"
  }
 ],
 "metadata": {
  "kernelspec": {
   "display_name": "Python 3",
   "language": "python",
   "name": "python3"
  },
  "language_info": {
   "codemirror_mode": {
    "name": "ipython",
    "version": 2
   },
   "file_extension": ".py",
   "mimetype": "text/x-python",
   "name": "python",
   "nbconvert_exporter": "python",
   "pygments_lexer": "ipython2",
   "version": "2.7.6"
  }
 },
 "nbformat": 4,
 "nbformat_minor": 5
}
